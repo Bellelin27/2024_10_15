{
 "cells": [
  {
   "cell_type": "markdown",
   "metadata": {},
   "source": [
    "loop"
   ]
  },
  {
   "cell_type": "code",
   "execution_count": 1,
   "metadata": {},
   "outputs": [
    {
     "name": "stdout",
     "output_type": "stream",
     "text": [
      "55\n"
     ]
    }
   ],
   "source": [
    "i = 0\n",
    "i += 1 \n",
    "i += 2 \n",
    "i += 3 \n",
    "i += 4 \n",
    "i += 5 \n",
    "i += 6 \n",
    "i += 7 \n",
    "i += 8 \n",
    "i += 9\n",
    "i += 10\n",
    "print(i) "
   ]
  },
  {
   "cell_type": "code",
   "execution_count": 2,
   "metadata": {},
   "outputs": [
    {
     "data": {
      "text/plain": [
       "range(1, 10, 2)"
      ]
     },
     "execution_count": 2,
     "metadata": {},
     "output_type": "execute_result"
    }
   ],
   "source": [
    "range(10)\n",
    "range(1,10)\n",
    "range(1,10,2)"
   ]
  },
  {
   "cell_type": "code",
   "execution_count": 3,
   "metadata": {},
   "outputs": [
    {
     "data": {
      "text/plain": [
       "55"
      ]
     },
     "execution_count": 3,
     "metadata": {},
     "output_type": "execute_result"
    }
   ],
   "source": [
    "sum = 0\n",
    "for i in range(1,11):\n",
    "    sum += i\n",
    "sum"
   ]
  },
  {
   "cell_type": "code",
   "execution_count": 4,
   "metadata": {},
   "outputs": [
    {
     "name": "stdout",
     "output_type": "stream",
     "text": [
      "p\n",
      "y\n",
      "t\n",
      "h\n",
      "o\n",
      "n\n"
     ]
    }
   ],
   "source": [
    "for word in 'python':\n",
    "    print(word)"
   ]
  },
  {
   "cell_type": "code",
   "execution_count": null,
   "metadata": {},
   "outputs": [],
   "source": [
    "#巢狀迴圈\n",
    "for i in range(1,10):\n",
    "    for j in range(1,10):\n",
    "        print(f'{i} * {j} = {i*j}',end='\\t')\n",
    "    print()"
   ]
  },
  {
   "cell_type": "code",
   "execution_count": null,
   "metadata": {},
   "outputs": [],
   "source": [
    "print()\n",
    "print(1, 2, 3, 'a', 'b', 'c')\n",
    "print(2.3)\n",
    "print(1, 2, 3, 'a', 'b', 'c',sep='-',end='.\\n')"
   ]
  },
  {
   "cell_type": "code",
   "execution_count": 1,
   "metadata": {},
   "outputs": [
    {
     "name": "stdout",
     "output_type": "stream",
     "text": [
      "恭喜!已經存夠了，存了4個月的總存款為:54000元。\n"
     ]
    }
   ],
   "source": [
    "#小明想要存錢買一輛機車,機車每輛30000元，他將每月存的錢輸入，當存款足夠買機車時，就顯示提示訊息告知。\n",
    "deposit = 0\n",
    "month = 0\n",
    "\n",
    "while(deposit < 30000):\n",
    "    month += 1\n",
    "    money = int(input(f\"請輸入第{month}月份的存款:\"))\n",
    "    deposit += money\n",
    "print(f\"恭喜!已經存夠了，存了{month}個月的總存款為:{deposit}元。\")"
   ]
  }
 ],
 "metadata": {
  "kernelspec": {
   "display_name": "Python 3",
   "language": "python",
   "name": "python3"
  },
  "language_info": {
   "codemirror_mode": {
    "name": "ipython",
    "version": 3
   },
   "file_extension": ".py",
   "mimetype": "text/x-python",
   "name": "python",
   "nbconvert_exporter": "python",
   "pygments_lexer": "ipython3",
   "version": "3.10.15"
  }
 },
 "nbformat": 4,
 "nbformat_minor": 2
}
