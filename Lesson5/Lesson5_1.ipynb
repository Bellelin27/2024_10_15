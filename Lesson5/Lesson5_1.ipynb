{
 "cells": [
  {
   "cell_type": "code",
   "execution_count": null,
   "metadata": {},
   "outputs": [
    {
     "name": "stdout",
     "output_type": "stream",
     "text": [
      "獎金:500\n"
     ]
    }
   ],
   "source": [
    "chinese = int(input(\"請輸入國文分數\"))\n",
    "math = int(input(\"請輸入數學分數\"))\n",
    "#巢狀判斷\n",
    "if chinese == 100:\n",
    "    if math == 100:\n",
    "        bonus = 1000\n",
    "    else:\n",
    "        bonus = 500\n",
    "elif math == 100:\n",
    "    bonus = 500\n",
    "else:\n",
    "    bonus = 0\n",
    "\n",
    "print(f\"獎金:{bonus}\")\n",
    "    "
   ]
  },
  {
   "cell_type": "code",
   "execution_count": 4,
   "metadata": {},
   "outputs": [
    {
     "name": "stdout",
     "output_type": "stream",
     "text": [
      "獎金:500\n"
     ]
    }
   ],
   "source": [
    "chinese = int(input(\"請輸入國文分數\"))\n",
    "math = int(input(\"請輸入數學分數\"))\n",
    "#邏輯判斷\n",
    "if chinese == 100 and math == 100:\n",
    "        bonus = 1000\n",
    "elif chinese == 100 or math == 100:\n",
    "    bonus = 500\n",
    "else:\n",
    "    bonus = 0\n",
    "\n",
    "print(f\"獎金:{bonus}\")"
   ]
  },
  {
   "cell_type": "code",
   "execution_count": 2,
   "metadata": {},
   "outputs": [
    {
     "name": "stdout",
     "output_type": "stream",
     "text": [
      "可以考駕照\n"
     ]
    }
   ],
   "source": [
    "age = 19\n",
    "#not功能,True和Fasle程式區塊對調\n",
    "if not age >= 18:\n",
    "    print(\"不可以考駕照\")\n",
    "else:\n",
    "    print(\"可以考駕照\")"
   ]
  },
  {
   "cell_type": "code",
   "execution_count": 3,
   "metadata": {},
   "outputs": [
    {
     "name": "stdout",
     "output_type": "stream",
     "text": [
      "不可以考駕照\n"
     ]
    }
   ],
   "source": [
    "age = 16\n",
    "#not功能,True和Fasle程式區塊對調\n",
    "if not age >= 18:\n",
    "    print(\"不可以考駕照\")\n",
    "else:\n",
    "    print(\"可以考駕照\")"
   ]
  },
  {
   "cell_type": "code",
   "execution_count": 5,
   "metadata": {},
   "outputs": [
    {
     "name": "stdout",
     "output_type": "stream",
     "text": [
      "正常\n"
     ]
    }
   ],
   "source": [
    "press = int(input(\"請輸入血壓值:\"))\n",
    "if press >= 90 and press <= 120:\n",
    "    print(\"正常\")\n",
    "else:\n",
    "    print(\"不正常\")\n"
   ]
  },
  {
   "cell_type": "code",
   "execution_count": 6,
   "metadata": {},
   "outputs": [
    {
     "name": "stdout",
     "output_type": "stream",
     "text": [
      "不正常\n"
     ]
    }
   ],
   "source": [
    "press = int(input(\"請輸入血壓值:\"))\n",
    "if 90 <= press <= 120:\n",
    "    print(\"正常\")\n",
    "else:\n",
    "    print(\"不正常\")"
   ]
  },
  {
   "cell_type": "code",
   "execution_count": 1,
   "metadata": {},
   "outputs": [
    {
     "name": "stdout",
     "output_type": "stream",
     "text": [
      "55\n"
     ]
    }
   ],
   "source": [
    "i = 0\n",
    "i += 1 \n",
    "i += 2 \n",
    "i += 3 \n",
    "i += 4 \n",
    "i += 5 \n",
    "i += 6 \n",
    "i += 7 \n",
    "i += 8 \n",
    "i += 9\n",
    "i += 10\n",
    "print(i) "
   ]
  },
  {
   "cell_type": "code",
   "execution_count": 2,
   "metadata": {},
   "outputs": [
    {
     "data": {
      "text/plain": [
       "range(1, 10, 2)"
      ]
     },
     "execution_count": 2,
     "metadata": {},
     "output_type": "execute_result"
    }
   ],
   "source": [
    "range(10)\n",
    "range(1,10)\n",
    "range(1,10,2)"
   ]
  },
  {
   "cell_type": "code",
   "execution_count": 3,
   "metadata": {},
   "outputs": [
    {
     "data": {
      "text/plain": [
       "55"
      ]
     },
     "execution_count": 3,
     "metadata": {},
     "output_type": "execute_result"
    }
   ],
   "source": [
    "sum = 0\n",
    "for i in range(1,11):\n",
    "    sum += i\n",
    "sum"
   ]
  },
  {
   "cell_type": "code",
   "execution_count": null,
   "metadata": {},
   "outputs": [
    {
     "data": {
      "text/plain": [
       "5050"
      ]
     },
     "execution_count": 4,
     "metadata": {},
     "output_type": "execute_result"
    }
   ],
   "source": [
    "#明確知道數字可以使用for...in迴圈\n",
    "sum = 0\n",
    "for i in range(1,101):\n",
    "    sum += i\n",
    "sum"
   ]
  },
  {
   "cell_type": "code",
   "execution_count": 5,
   "metadata": {},
   "outputs": [
    {
     "name": "stdout",
     "output_type": "stream",
     "text": [
      "p\n",
      "y\n",
      "t\n",
      "h\n",
      "o\n",
      "n\n"
     ]
    }
   ],
   "source": [
    "for word in 'python':\n",
    "    print(word)"
   ]
  },
  {
   "cell_type": "code",
   "execution_count": null,
   "metadata": {},
   "outputs": [],
   "source": [
    "#巢狀迴圈\n",
    "for i in range(1,10):\n",
    "    print(f\"i={i}\")\n",
    "    for j in range(1,9)\n",
    "    pass:"
   ]
  }
 ],
 "metadata": {
  "kernelspec": {
   "display_name": "Python 3",
   "language": "python",
   "name": "python3"
  },
  "language_info": {
   "codemirror_mode": {
    "name": "ipython",
    "version": 3
   },
   "file_extension": ".py",
   "mimetype": "text/x-python",
   "name": "python",
   "nbconvert_exporter": "python",
   "pygments_lexer": "ipython3",
   "version": "3.10.15"
  }
 },
 "nbformat": 4,
 "nbformat_minor": 2
}
