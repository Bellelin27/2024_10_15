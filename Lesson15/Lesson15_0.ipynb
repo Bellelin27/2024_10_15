{
 "cells": [
  {
   "cell_type": "code",
   "execution_count": 1,
   "metadata": {},
   "outputs": [
    {
     "ename": "ModuleNotFoundError",
     "evalue": "No module named 'pandas'",
     "output_type": "error",
     "traceback": [
      "\u001b[0;31m---------------------------------------------------------------------------\u001b[0m",
      "\u001b[0;31mModuleNotFoundError\u001b[0m                       Traceback (most recent call last)",
      "Cell \u001b[0;32mIn[1], line 3\u001b[0m\n\u001b[1;32m      1\u001b[0m \u001b[38;5;28;01mimport\u001b[39;00m \u001b[38;5;21;01mrandom\u001b[39;00m \u001b[38;5;241m,\u001b[39m \u001b[38;5;21;01mcsv\u001b[39;00m\n\u001b[1;32m      2\u001b[0m \u001b[38;5;28;01mfrom\u001b[39;00m \u001b[38;5;21;01mpprint\u001b[39;00m \u001b[38;5;28;01mimport\u001b[39;00m pprint\n\u001b[0;32m----> 3\u001b[0m \u001b[38;5;28;01mimport\u001b[39;00m \u001b[38;5;21;01mpandas\u001b[39;00m \u001b[38;5;28;01mas\u001b[39;00m \u001b[38;5;21;01mpd\u001b[39;00m\n\u001b[1;32m      5\u001b[0m \u001b[38;5;28;01mclass\u001b[39;00m \u001b[38;5;21;01mBMI\u001b[39;00m(): \n\u001b[1;32m      6\u001b[0m     \u001b[38;5;28;01mdef\u001b[39;00m \u001b[38;5;21m__init__\u001b[39m(\u001b[38;5;28mself\u001b[39m,name:\u001b[38;5;28mstr\u001b[39m,height:\u001b[38;5;28mint\u001b[39m,weight:\u001b[38;5;28mint\u001b[39m): \n",
      "\u001b[0;31mModuleNotFoundError\u001b[0m: No module named 'pandas'"
     ]
    }
   ],
   "source": [
    "import random , csv\n",
    "from pprint import pprint\n",
    "import pandas as pd\n",
    "\n",
    "class BMI(): \n",
    "    def __init__(self,name:str,height:int,weight:int): \n",
    "        self.name = name\n",
    "        self.height = height\n",
    "        self.weight = weight\n",
    "\n",
    "    def get_bmi(self)->float: #取得bmi\n",
    "        return round(self.weight / (self.height/100) ** 2,ndigits=2)\n",
    "    \n",
    "    def get_status(self)->str:  #取得status\n",
    "        bmi = self.get_bmi()\n",
    "        if bmi >=35:\n",
    "            status = \"重度肥胖\"\n",
    "        elif bmi >= 30:\n",
    "            status = \"中度肥胖\"\n",
    "        elif bmi >= 27:\n",
    "            status = \"輕度肥胖\"\n",
    "        elif bmi >= 24:\n",
    "            status = \"過重\"\n",
    "        elif bmi >= 18.5:\n",
    "            status = \"正常範圍\"\n",
    "        else:\n",
    "            status = \"體重過輕\"\n",
    "        return status\n",
    "def get_name(nums:int=2)->list[str]: #抓取name.txt裡面的名字\n",
    "    with open('names.txt',mode='r',encoding='utf-8') as file:\n",
    "            names_str = file.read()\n",
    "    names = names_str.split()\n",
    "    names = random.choices(names,k=nums)\n",
    "    return  names\n",
    "     \n",
    "def generate_bmi(names:list[str])->list[BMI]: \n",
    "    students:list[BMI] = []\n",
    "    for name in names:\n",
    "        height = random.randint(140,190)\n",
    "        weight = random.randint(50,110)\n",
    "        student_STATUS = BMI(name, height, weight)\n",
    "        students.append(student_STATUS) #list實體化 \n",
    "    return students\n",
    "\n",
    "if __name__ == '__main__':\n",
    "    nums = int(input('請輸入人數:'))\n",
    "    names:list[str] = get_name(nums=nums)\n",
    "    students:list[BMI] = generate_bmi(names=names)\n",
    "    file_dict:list[dict] = []\n",
    "    for student in students:\n",
    "        #將資料轉換成字典\n",
    "        student_dict = {\n",
    "        \"姓名\": student.name,\n",
    "        \"身高\": student.height,\n",
    "        \"體重\": student.weight,\n",
    "        \"BMI\": student.get_bmi(),\n",
    "        \"狀態\": student.get_status()\n",
    "        }\n",
    "        file_dict.append(student_dict)  #寫入list[dict]\n",
    "pprint(file_dict)#測試\n",
    "df = pd.DataFrame(file_dict, \n",
    "                       columns=['姓名', '身高', '體重', 'BMI', '狀態'], #依據欄位名稱重新排序\n",
    "                       index= range(1,nums+1)) #設定索引從1~nums(包含nums)\n",
    "df.index.name = '學號'\n",
    "df       "
   ]
  }
 ],
 "metadata": {
  "kernelspec": {
   "display_name": "Python 3",
   "language": "python",
   "name": "python3"
  },
  "language_info": {
   "codemirror_mode": {
    "name": "ipython",
    "version": 3
   },
   "file_extension": ".py",
   "mimetype": "text/x-python",
   "name": "python",
   "nbconvert_exporter": "python",
   "pygments_lexer": "ipython3",
   "version": "3.10.15"
  }
 },
 "nbformat": 4,
 "nbformat_minor": 2
}
