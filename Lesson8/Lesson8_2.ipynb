{
 "cells": [
  {
   "cell_type": "code",
   "execution_count": 1,
   "metadata": {},
   "outputs": [
    {
     "name": "stdout",
     "output_type": "stream",
     "text": [
      "[{'name': '張彥博', 'chinese': 65, 'english': 50, 'math': 97}, {'name': '陳逸華', 'chinese': 98, 'english': 100, 'math': 77}, {'name': '龔姵君', 'chinese': 79, 'english': 69, 'math': 62}, {'name': '陳志偉', 'chinese': 71, 'english': 62, 'math': 54}, {'name': '黃彥孝', 'chinese': 63, 'english': 91, 'math': 77}, {'name': '王德城', 'chinese': 84, 'english': 97, 'math': 70}, {'name': '馮芳如', 'chinese': 71, 'english': 96, 'math': 83}, {'name': '李慶亮', 'chinese': 93, 'english': 79, 'math': 94}]\n"
     ]
    }
   ],
   "source": [
    "import random\n",
    "def get_names(nums:int=2)->list[str]:\n",
    "    with open('names.txt',encoding='utf-8',mode='r') as file:\n",
    "        names_str = file.read()\n",
    "    names:list[str] = names_str.split(sep='\\n')\n",
    "    names = random.choices(names,k=nums)\n",
    "    return names\n",
    "\n",
    "def generate_students(names:list[str]) -> list[dict]:\n",
    "    students:list[dict] = []\n",
    "    for name in names:\n",
    "        chinese = random.randint(50, 100)\n",
    "        english = random.randint(50, 100)\n",
    "        math = random.randint(50, 100)\n",
    "        student = {'name':name,'chinese':chinese,'english':english,'math':math}\n",
    "        students.append(student)\n",
    "    return students  \n",
    "    \n",
    "\n",
    "\n",
    "nums = int(input('請輸入學生數量(最多10位):'))\n",
    "student_names:list[str] = get_names(nums=nums)\n",
    "students:list[dict] = generate_students(names=student_names)\n",
    "print(students)"
   ]
  }
 ],
 "metadata": {
  "kernelspec": {
   "display_name": "Python 3",
   "language": "python",
   "name": "python3"
  },
  "language_info": {
   "codemirror_mode": {
    "name": "ipython",
    "version": 3
   },
   "file_extension": ".py",
   "mimetype": "text/x-python",
   "name": "python",
   "nbconvert_exporter": "python",
   "pygments_lexer": "ipython3",
   "version": "3.10.15"
  }
 },
 "nbformat": 4,
 "nbformat_minor": 2
}
