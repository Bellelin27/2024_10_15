{
 "cells": [
  {
   "cell_type": "code",
   "execution_count": 1,
   "metadata": {},
   "outputs": [
    {
     "name": "stdout",
     "output_type": "stream",
     "text": [
      "唐翊修\n",
      "崔孝憲\n",
      "藍哲嘉\n",
      "蔡世馨\n",
      "黃必琪\n",
      "林清英\n",
      "張莉雯\n"
     ]
    }
   ],
   "source": [
    "import random\n",
    "def get_names(nums:int=2)->list[str]:\n",
    "    with open('names.txt',encoding='utf-8',mode='r') as file:\n",
    "        names_str = file.read()\n",
    "    names:list[str] = names_str.split(sep='\\n')\n",
    "    names = random.choices(names,k=nums)\n",
    "    return names\n",
    "\n",
    "nums = int(input('請輸入學生數量(最多10位):'))\n",
    "student_names:list[str] = get_names(nums=nums)\n",
    "for name in student_names:\n",
    "    print(name)"
   ]
  },
  {
   "cell_type": "code",
   "execution_count": 2,
   "metadata": {},
   "outputs": [],
   "source": [
    "def generate_students(names:list[str]) -> list[dict]:\n",
    "    students:list[dict] = []\n",
    "    for name in names:\n",
    "        chinese = random.randint(50, 100)\n",
    "        english = random.randint(50, 100)\n",
    "        math = random.randint(50, 100)\n",
    "        student = {'name':name,'chinese':chinese,'english':english,'math':math}\n",
    "        students.append(student)\n",
    "    return students  "
   ]
  },
  {
   "cell_type": "code",
   "execution_count": 3,
   "metadata": {},
   "outputs": [
    {
     "data": {
      "text/plain": [
       "[{'name': '唐翊修', 'chinese': 82, 'english': 66, 'math': 91},\n",
       " {'name': '崔孝憲', 'chinese': 86, 'english': 84, 'math': 89},\n",
       " {'name': '藍哲嘉', 'chinese': 87, 'english': 74, 'math': 56},\n",
       " {'name': '蔡世馨', 'chinese': 57, 'english': 97, 'math': 66},\n",
       " {'name': '黃必琪', 'chinese': 70, 'english': 69, 'math': 84},\n",
       " {'name': '林清英', 'chinese': 50, 'english': 71, 'math': 50},\n",
       " {'name': '張莉雯', 'chinese': 77, 'english': 91, 'math': 89}]"
      ]
     },
     "execution_count": 3,
     "metadata": {},
     "output_type": "execute_result"
    }
   ],
   "source": [
    "students = generate_students(names=student_names)\n",
    "students"
   ]
  }
 ],
 "metadata": {
  "kernelspec": {
   "display_name": "Python 3",
   "language": "python",
   "name": "python3"
  },
  "language_info": {
   "codemirror_mode": {
    "name": "ipython",
    "version": 3
   },
   "file_extension": ".py",
   "mimetype": "text/x-python",
   "name": "python",
   "nbconvert_exporter": "python",
   "pygments_lexer": "ipython3",
   "version": "3.10.15"
  }
 },
 "nbformat": 4,
 "nbformat_minor": 2
}
