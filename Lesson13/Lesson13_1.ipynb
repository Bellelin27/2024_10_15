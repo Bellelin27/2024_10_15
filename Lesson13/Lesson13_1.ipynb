{
 "cells": [
  {
   "cell_type": "code",
   "execution_count": 1,
   "metadata": {},
   "outputs": [
    {
     "ename": "SyntaxError",
     "evalue": "incomplete input (3417913556.py, line 4)",
     "output_type": "error",
     "traceback": [
      "\u001b[0;36m  Cell \u001b[0;32mIn[1], line 4\u001b[0;36m\u001b[0m\n\u001b[0;31m    array([1, 2, 3, 4, 5]\u001b[0m\n\u001b[0m                         ^\u001b[0m\n\u001b[0;31mSyntaxError\u001b[0m\u001b[0;31m:\u001b[0m incomplete input\n"
     ]
    }
   ],
   "source": [
    "import numpy as np\n",
    "array1 = np.array([1, 2, 3, 4, 5])\n",
    "array1\n",
    "array([1, 2, 3, 4, 5]"
   ]
  },
  {
   "cell_type": "code",
   "execution_count": 2,
   "metadata": {},
   "outputs": [
    {
     "ename": "NameError",
     "evalue": "name 'np' is not defined",
     "output_type": "error",
     "traceback": [
      "\u001b[0;31m---------------------------------------------------------------------------\u001b[0m",
      "\u001b[0;31mNameError\u001b[0m                                 Traceback (most recent call last)",
      "Cell \u001b[0;32mIn[2], line 1\u001b[0m\n\u001b[0;32m----> 1\u001b[0m array2 \u001b[38;5;241m=\u001b[39m \u001b[43mnp\u001b[49m\u001b[38;5;241m.\u001b[39marray([\u001b[38;5;241m9\u001b[39m, \u001b[38;5;241m8\u001b[39m, \u001b[38;5;241m7\u001b[39m, \u001b[38;5;241m6\u001b[39m, \u001b[38;5;241m5\u001b[39m])\n\u001b[1;32m      2\u001b[0m array2\n",
      "\u001b[0;31mNameError\u001b[0m: name 'np' is not defined"
     ]
    }
   ],
   "source": [
    "array2 = np.array([9, 8, 7, 6, 5])\n",
    "array2"
   ]
  },
  {
   "cell_type": "code",
   "execution_count": 3,
   "metadata": {},
   "outputs": [
    {
     "ename": "NameError",
     "evalue": "name 'array1' is not defined",
     "output_type": "error",
     "traceback": [
      "\u001b[0;31m---------------------------------------------------------------------------\u001b[0m",
      "\u001b[0;31mNameError\u001b[0m                                 Traceback (most recent call last)",
      "Cell \u001b[0;32mIn[3], line 1\u001b[0m\n\u001b[0;32m----> 1\u001b[0m array3 \u001b[38;5;241m=\u001b[39m \u001b[43marray1\u001b[49m \u001b[38;5;241m+\u001b[39m array2\n\u001b[1;32m      2\u001b[0m array4 \u001b[38;5;241m=\u001b[39m array3 \u001b[38;5;241m*\u001b[39m \u001b[38;5;241m10\u001b[39m\n\u001b[1;32m      3\u001b[0m array4 \u001b[38;5;241m/\u001b[39m \u001b[38;5;241m10\u001b[39m\n",
      "\u001b[0;31mNameError\u001b[0m: name 'array1' is not defined"
     ]
    }
   ],
   "source": [
    "array3 = array1 + array2\n",
    "array4 = array3 * 10\n",
    "array4 / 10"
   ]
  },
  {
   "cell_type": "code",
   "execution_count": 4,
   "metadata": {},
   "outputs": [
    {
     "ename": "SyntaxError",
     "evalue": "incomplete input (89333479.py, line 2)",
     "output_type": "error",
     "traceback": [
      "\u001b[0;36m  Cell \u001b[0;32mIn[4], line 2\u001b[0;36m\u001b[0m\n\u001b[0;31m    array([5.45083583e-310,\u001b[0m\n\u001b[0m                           ^\u001b[0m\n\u001b[0;31mSyntaxError\u001b[0m\u001b[0;31m:\u001b[0m incomplete input\n"
     ]
    }
   ],
   "source": [
    "np.empty((10,))\n",
    "array([5.45083583e-310,"
   ]
  },
  {
   "cell_type": "code",
   "execution_count": 5,
   "metadata": {},
   "outputs": [
    {
     "ename": "NameError",
     "evalue": "name 'np' is not defined",
     "output_type": "error",
     "traceback": [
      "\u001b[0;31m---------------------------------------------------------------------------\u001b[0m",
      "\u001b[0;31mNameError\u001b[0m                                 Traceback (most recent call last)",
      "Cell \u001b[0;32mIn[5], line 1\u001b[0m\n\u001b[0;32m----> 1\u001b[0m \u001b[43mnp\u001b[49m\u001b[38;5;241m.\u001b[39marange(\u001b[38;5;241m0.5\u001b[39m,\u001b[38;5;241m10\u001b[39m,\u001b[38;5;241m0.5\u001b[39m)\n\u001b[1;32m      2\u001b[0m array([\u001b[38;5;241m0.5\u001b[39m, \u001b[38;5;241m1.\u001b[39m , \u001b[38;5;241m1.5\u001b[39m, \u001b[38;5;241m2.\u001b[39m , \u001b[38;5;241m2.5\u001b[39m, \u001b[38;5;241m3.\u001b[39m , \u001b[38;5;241m3.5\u001b[39m, \u001b[38;5;241m4.\u001b[39m , \u001b[38;5;241m4.5\u001b[39m, \u001b[38;5;241m5.\u001b[39m , \u001b[38;5;241m5.5\u001b[39m, \u001b[38;5;241m6.\u001b[39m , \u001b[38;5;241m6.5\u001b[39m,\n\u001b[1;32m      3\u001b[0m        \u001b[38;5;241m7.\u001b[39m , \u001b[38;5;241m7.5\u001b[39m, \u001b[38;5;241m8.\u001b[39m , \u001b[38;5;241m8.5\u001b[39m, \u001b[38;5;241m9.\u001b[39m , \u001b[38;5;241m9.5\u001b[39m])\n\u001b[1;32m      4\u001b[0m np\u001b[38;5;241m.\u001b[39mlinspace(\u001b[38;5;241m-\u001b[39m\u001b[38;5;241m3\u001b[39m, \u001b[38;5;241m3\u001b[39m)\n",
      "\u001b[0;31mNameError\u001b[0m: name 'np' is not defined"
     ]
    }
   ],
   "source": [
    "np.arange(0.5,10,0.5)\n",
    "array([0.5, 1. , 1.5, 2. , 2.5, 3. , 3.5, 4. , 4.5, 5. , 5.5, 6. , 6.5,\n",
    "       7. , 7.5, 8. , 8.5, 9. , 9.5])\n",
    "np.linspace(-3, 3)"
   ]
  }
 ],
 "metadata": {
  "kernelspec": {
   "display_name": "Python 3",
   "language": "python",
   "name": "python3"
  },
  "language_info": {
   "codemirror_mode": {
    "name": "ipython",
    "version": 3
   },
   "file_extension": ".py",
   "mimetype": "text/x-python",
   "name": "python",
   "nbconvert_exporter": "python",
   "pygments_lexer": "ipython3",
   "version": "3.10.15"
  }
 },
 "nbformat": 4,
 "nbformat_minor": 2
}
