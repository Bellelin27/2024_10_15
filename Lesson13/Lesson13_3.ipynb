{
 "cells": [
  {
   "cell_type": "code",
   "execution_count": 1,
   "metadata": {},
   "outputs": [
    {
     "ename": "ModuleNotFoundError",
     "evalue": "No module named 'numpy'",
     "output_type": "error",
     "traceback": [
      "\u001b[0;31m---------------------------------------------------------------------------\u001b[0m",
      "\u001b[0;31mModuleNotFoundError\u001b[0m                       Traceback (most recent call last)",
      "Cell \u001b[0;32mIn[1], line 1\u001b[0m\n\u001b[0;32m----> 1\u001b[0m \u001b[38;5;28;01mimport\u001b[39;00m \u001b[38;5;21;01mnumpy\u001b[39;00m \u001b[38;5;28;01mas\u001b[39;00m \u001b[38;5;21;01mnp\u001b[39;00m\n\u001b[1;32m      2\u001b[0m \u001b[38;5;28;01mimport\u001b[39;00m \u001b[38;5;21;01mmatplotlib\u001b[39;00m\u001b[38;5;21;01m.\u001b[39;00m\u001b[38;5;21;01mpyplot\u001b[39;00m \u001b[38;5;28;01mas\u001b[39;00m \u001b[38;5;21;01mplt\u001b[39;00m\n\u001b[1;32m      4\u001b[0m index \u001b[38;5;241m=\u001b[39m [\u001b[38;5;124m'\u001b[39m\u001b[38;5;124mapple\u001b[39m\u001b[38;5;124m'\u001b[39m, \u001b[38;5;124m'\u001b[39m\u001b[38;5;124mbanana\u001b[39m\u001b[38;5;124m'\u001b[39m, \u001b[38;5;124m'\u001b[39m\u001b[38;5;124morange\u001b[39m\u001b[38;5;124m'\u001b[39m, \u001b[38;5;124m'\u001b[39m\u001b[38;5;124mtomato\u001b[39m\u001b[38;5;124m'\u001b[39m, \u001b[38;5;124m'\u001b[39m\u001b[38;5;124mguava\u001b[39m\u001b[38;5;124m'\u001b[39m]\n",
      "\u001b[0;31mModuleNotFoundError\u001b[0m: No module named 'numpy'"
     ]
    }
   ],
   "source": [
    "import numpy as np\n",
    "import matplotlib.pyplot as plt\n",
    "\n",
    "index = ['apple', 'banana', 'orange', 'tomato', 'guava']\n",
    "values = [5, 7 , 3, 4, 6]\n",
    "figure = plt.figure()\n",
    "axes = figure.add_subplot()\n",
    "axes.bar(index, values)\n",
    "print(axes.get_xticks())\n",
    "print(axes.get_xticklabels())\n",
    "plt.show()"
   ]
  },
  {
   "cell_type": "code",
   "execution_count": 2,
   "metadata": {},
   "outputs": [
    {
     "ename": "NameError",
     "evalue": "name 'plt' is not defined",
     "output_type": "error",
     "traceback": [
      "\u001b[0;31m---------------------------------------------------------------------------\u001b[0m",
      "\u001b[0;31mNameError\u001b[0m                                 Traceback (most recent call last)",
      "Cell \u001b[0;32mIn[2], line 4\u001b[0m\n\u001b[1;32m      2\u001b[0m subject \u001b[38;5;241m=\u001b[39m [\u001b[38;5;124m'\u001b[39m\u001b[38;5;124mapple\u001b[39m\u001b[38;5;124m'\u001b[39m, \u001b[38;5;124m'\u001b[39m\u001b[38;5;124mbanana\u001b[39m\u001b[38;5;124m'\u001b[39m, \u001b[38;5;124m'\u001b[39m\u001b[38;5;124morange\u001b[39m\u001b[38;5;124m'\u001b[39m, \u001b[38;5;124m'\u001b[39m\u001b[38;5;124mtomato\u001b[39m\u001b[38;5;124m'\u001b[39m, \u001b[38;5;124m'\u001b[39m\u001b[38;5;124mguava\u001b[39m\u001b[38;5;124m'\u001b[39m]\n\u001b[1;32m      3\u001b[0m values \u001b[38;5;241m=\u001b[39m [\u001b[38;5;241m5000\u001b[39m, \u001b[38;5;241m6000\u001b[39m, \u001b[38;5;241m7000\u001b[39m, \u001b[38;5;241m8000\u001b[39m, \u001b[38;5;241m9000\u001b[39m]\n\u001b[0;32m----> 4\u001b[0m figure \u001b[38;5;241m=\u001b[39m \u001b[43mplt\u001b[49m\u001b[38;5;241m.\u001b[39mfigure()\n\u001b[1;32m      5\u001b[0m axes \u001b[38;5;241m=\u001b[39m figure\u001b[38;5;241m.\u001b[39madd_subplot()\n\u001b[1;32m      6\u001b[0m axes\u001b[38;5;241m.\u001b[39mbar(index, values)\n",
      "\u001b[0;31mNameError\u001b[0m: name 'plt' is not defined"
     ]
    }
   ],
   "source": [
    "index = [3, 4, 5, 6, 7]\n",
    "subject = ['apple', 'banana', 'orange', 'tomato', 'guava']\n",
    "values = [5000, 6000, 7000, 8000, 9000]\n",
    "figure = plt.figure()\n",
    "axes = figure.add_subplot()\n",
    "axes.bar(index, values)\n",
    "axes.set_xticks(index,labels=subject)\n",
    "xmin, xmax, ymin, ymax = axes.axis()\n",
    "xmin -= 0.2\n",
    "xmax += 0.2\n",
    "ymin = 3000\n",
    "ymax += 1000\n",
    "axes.axis(xmin = xmin, xmax = xmax, ymin = ymin, ymax = ymax)\n",
    "plt.show()"
   ]
  },
  {
   "cell_type": "code",
   "execution_count": 3,
   "metadata": {},
   "outputs": [
    {
     "ename": "NameError",
     "evalue": "name 'plt' is not defined",
     "output_type": "error",
     "traceback": [
      "\u001b[0;31m---------------------------------------------------------------------------\u001b[0m",
      "\u001b[0;31mNameError\u001b[0m                                 Traceback (most recent call last)",
      "Cell \u001b[0;32mIn[3], line 4\u001b[0m\n\u001b[1;32m      2\u001b[0m subject \u001b[38;5;241m=\u001b[39m [\u001b[38;5;124m'\u001b[39m\u001b[38;5;124mapple\u001b[39m\u001b[38;5;124m'\u001b[39m, \u001b[38;5;124m'\u001b[39m\u001b[38;5;124mbanana\u001b[39m\u001b[38;5;124m'\u001b[39m, \u001b[38;5;124m'\u001b[39m\u001b[38;5;124morange\u001b[39m\u001b[38;5;124m'\u001b[39m, \u001b[38;5;124m'\u001b[39m\u001b[38;5;124mtomato\u001b[39m\u001b[38;5;124m'\u001b[39m, \u001b[38;5;124m'\u001b[39m\u001b[38;5;124mguava\u001b[39m\u001b[38;5;124m'\u001b[39m]\n\u001b[1;32m      3\u001b[0m values \u001b[38;5;241m=\u001b[39m [\u001b[38;5;241m5000\u001b[39m, \u001b[38;5;241m6000\u001b[39m, \u001b[38;5;241m7000\u001b[39m, \u001b[38;5;241m8000\u001b[39m, \u001b[38;5;241m9000\u001b[39m]\n\u001b[0;32m----> 4\u001b[0m figure \u001b[38;5;241m=\u001b[39m \u001b[43mplt\u001b[49m\u001b[38;5;241m.\u001b[39mfigure()\n\u001b[1;32m      5\u001b[0m axes \u001b[38;5;241m=\u001b[39m figure\u001b[38;5;241m.\u001b[39madd_subplot()\n\u001b[1;32m      6\u001b[0m axes\u001b[38;5;241m.\u001b[39mbar(index, values)\n",
      "\u001b[0;31mNameError\u001b[0m: name 'plt' is not defined"
     ]
    }
   ],
   "source": [
    "index = [3, 4, 5, 6, 7]\n",
    "subject = ['apple', 'banana', 'orange', 'tomato', 'guava']\n",
    "values = [5000, 6000, 7000, 8000, 9000]\n",
    "figure = plt.figure()\n",
    "axes = figure.add_subplot()\n",
    "axes.bar(index, values)\n",
    "axes.set_xticks(index,labels=subject)\n",
    "xmin, xmax, ymin, ymax = axes.axis()\n",
    "xmin -= 0.2\n",
    "xmax += 0.2\n",
    "ymin = 3000\n",
    "ymax += 1000\n",
    "axes.axis(xmin = xmin, xmax = xmax, ymin = ymin, ymax = ymax)\n",
    "plt.show()"
   ]
  },
  {
   "cell_type": "code",
   "execution_count": 4,
   "metadata": {},
   "outputs": [
    {
     "ename": "NameError",
     "evalue": "name 'np' is not defined",
     "output_type": "error",
     "traceback": [
      "\u001b[0;31m---------------------------------------------------------------------------\u001b[0m",
      "\u001b[0;31mNameError\u001b[0m                                 Traceback (most recent call last)",
      "Cell \u001b[0;32mIn[4], line 1\u001b[0m\n\u001b[0;32m----> 1\u001b[0m index \u001b[38;5;241m=\u001b[39m \u001b[43mnp\u001b[49m\u001b[38;5;241m.\u001b[39marray([\u001b[38;5;241m3\u001b[39m, \u001b[38;5;241m4\u001b[39m, \u001b[38;5;241m5\u001b[39m, \u001b[38;5;241m6\u001b[39m, \u001b[38;5;241m7\u001b[39m])\n\u001b[1;32m      2\u001b[0m subject \u001b[38;5;241m=\u001b[39m [\u001b[38;5;124m'\u001b[39m\u001b[38;5;124mapple\u001b[39m\u001b[38;5;124m'\u001b[39m, \u001b[38;5;124m'\u001b[39m\u001b[38;5;124mbanana\u001b[39m\u001b[38;5;124m'\u001b[39m, \u001b[38;5;124m'\u001b[39m\u001b[38;5;124morange\u001b[39m\u001b[38;5;124m'\u001b[39m, \u001b[38;5;124m'\u001b[39m\u001b[38;5;124mtomato\u001b[39m\u001b[38;5;124m'\u001b[39m, \u001b[38;5;124m'\u001b[39m\u001b[38;5;124mguava\u001b[39m\u001b[38;5;124m'\u001b[39m]\n\u001b[1;32m      3\u001b[0m values1 \u001b[38;5;241m=\u001b[39m [\u001b[38;5;241m5000\u001b[39m, \u001b[38;5;241m6000\u001b[39m, \u001b[38;5;241m7000\u001b[39m, \u001b[38;5;241m8000\u001b[39m, \u001b[38;5;241m9000\u001b[39m]\n",
      "\u001b[0;31mNameError\u001b[0m: name 'np' is not defined"
     ]
    }
   ],
   "source": [
    "index = np.array([3, 4, 5, 6, 7])\n",
    "subject = ['apple', 'banana', 'orange', 'tomato', 'guava']\n",
    "values1 = [5000, 6000, 7000, 8000, 9000]\n",
    "values2 = [3000, 4000, 5000, 6000, 7000]\n",
    "values3 = [4000, 5000, 6000, 7000, 8000]\n",
    "figure = plt.figure()\n",
    "axes = figure.add_subplot()\n",
    "bin_width = 0.3\n",
    "axes.bar(index, values1,width=bin_width,color='red')\n",
    "axes.bar(index+bin_width, values2,width=bin_width,color='blue')\n",
    "axes.bar(index-bin_width, values3,width=bin_width,color='green')\n",
    "axes.set_xticks(index,labels=subject)\n",
    "xmin, xmax, ymin, ymax = axes.axis()\n",
    "xmin -= 0.2\n",
    "xmax += 0.2\n",
    "ymin = 1000\n",
    "ymax += 1000\n",
    "axes.axis(xmin = xmin, xmax = xmax, ymin = ymin, ymax = ymax)\n",
    "plt.show()"
   ]
  }
 ],
 "metadata": {
  "kernelspec": {
   "display_name": "Python 3",
   "language": "python",
   "name": "python3"
  },
  "language_info": {
   "codemirror_mode": {
    "name": "ipython",
    "version": 3
   },
   "file_extension": ".py",
   "mimetype": "text/x-python",
   "name": "python",
   "nbconvert_exporter": "python",
   "pygments_lexer": "ipython3",
   "version": "3.10.15"
  }
 },
 "nbformat": 4,
 "nbformat_minor": 2
}
