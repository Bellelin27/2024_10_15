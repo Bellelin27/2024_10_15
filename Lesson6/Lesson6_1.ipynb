{
 "cells": [
  {
   "cell_type": "markdown",
   "metadata": {},
   "source": [
    "##while(True):=>無限迴圈\n",
    "##break => 放在中間是中斷迴圈, 直接跳出去\n",
    "##continue => 放在中間是跳到下一個迴圈"
   ]
  },
  {
   "cell_type": "code",
   "execution_count": 1,
   "metadata": {},
   "outputs": [
    {
     "name": "stdout",
     "output_type": "stream",
     "text": [
      "恭喜!已經存夠了，存了4個月的總存款為:32000元。\n"
     ]
    }
   ],
   "source": [
    "#小明想要存錢買一輛機車,機車每輛30000元，他將每月存的錢輸入，當存款足夠買機車時，就顯示提示訊息告知。\n",
    "deposit = 0\n",
    "month = 0\n",
    "\n",
    "while(True):\n",
    "    month += 1\n",
    "    money = int(input(f\"請輸入第{month}月份的存款:\"))\n",
    "    deposit += money\n",
    "    if deposit >= 30000:\n",
    "        break\n",
    "print(f\"恭喜!已經存夠了，存了{month}個月的總存款為:{deposit}元。\")"
   ]
  }
 ],
 "metadata": {
  "kernelspec": {
   "display_name": "Python 3",
   "language": "python",
   "name": "python3"
  },
  "language_info": {
   "codemirror_mode": {
    "name": "ipython",
    "version": 3
   },
   "file_extension": ".py",
   "mimetype": "text/x-python",
   "name": "python",
   "nbconvert_exporter": "python",
   "pygments_lexer": "ipython3",
   "version": "3.10.15"
  }
 },
 "nbformat": 4,
 "nbformat_minor": 2
}
