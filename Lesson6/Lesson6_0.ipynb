{
 "cells": [
  {
   "cell_type": "markdown",
   "metadata": {},
   "source": [
    "#練習\n",
    "\n",
    "\n",
    "### 輸入:\n",
    "- 要檢查是否輸入格式錯誤\n",
    "請輸入整數,求所有因數:10\n",
    "\n",
    "### 輸出:\n",
    "10的因數是:1 2 5 10\n"
   ]
  },
  {
   "cell_type": "code",
   "execution_count": 1,
   "metadata": {},
   "outputs": [
    {
     "name": "stdout",
     "output_type": "stream",
     "text": [
      "1000的因數有:1 2 4 5 8 10 20 25 40 50 100 125 200 250 500 1000 "
     ]
    }
   ],
   "source": [
    "try:\n",
    "    x = int(input(\"請輸入整數\"))\n",
    "    print(f\"{x}的因數有:\",end='')\n",
    "    for i in range(1,x+1):\n",
    "        if(x%i==0):\n",
    "            print(f\"{i}\",end=' ')\n",
    "except Exception:\n",
    "    print(\"格式錯誤\") "
   ]
  },
  {
   "cell_type": "code",
   "execution_count": 2,
   "metadata": {},
   "outputs": [
    {
     "name": "stdout",
     "output_type": "stream",
     "text": [
      "100的因數有:1   2   4   5   10   20   25   50   100   "
     ]
    }
   ],
   "source": [
    "try:\n",
    "    x = int(input(\"請輸入整數\"))\n",
    "    print(f\"{x}的因數有:\",end='')\n",
    "    for i in range(1,x+1):\n",
    "        if(x%i==0):\n",
    "            print(f\"{i}\",end='   ')\n",
    "except Exception:\n",
    "    print(\"格式錯誤\") "
   ]
  }
 ],
 "metadata": {
  "kernelspec": {
   "display_name": "Python 3",
   "language": "python",
   "name": "python3"
  },
  "language_info": {
   "codemirror_mode": {
    "name": "ipython",
    "version": 3
   },
   "file_extension": ".py",
   "mimetype": "text/x-python",
   "name": "python",
   "nbconvert_exporter": "python",
   "pygments_lexer": "ipython3",
   "version": "3.10.15"
  }
 },
 "nbformat": 4,
 "nbformat_minor": 2
}
