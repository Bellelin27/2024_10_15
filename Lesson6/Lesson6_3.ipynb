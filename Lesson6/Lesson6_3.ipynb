{
 "cells": [
  {
   "cell_type": "code",
   "execution_count": 3,
   "metadata": {},
   "outputs": [
    {
     "ename": "SyntaxError",
     "evalue": "invalid syntax (1764910856.py, line 32)",
     "output_type": "error",
     "traceback": [
      "\u001b[0;36m  Cell \u001b[0;32mIn[3], line 32\u001b[0;36m\u001b[0m\n\u001b[0;31m    else:\u001b[0m\n\u001b[0m    ^\u001b[0m\n\u001b[0;31mSyntaxError\u001b[0m\u001b[0;31m:\u001b[0m invalid syntax\n"
     ]
    }
   ],
   "source": [
    "import random\n",
    "\n",
    "#減少邏輯思考\n",
    "def playGame()->None:\n",
    "    min = 1\n",
    "    max = 100\n",
    "    count = 0\n",
    "    target = random.randint(min, max)\n",
    "    print(target)\n",
    "    print(\"===========猜數字遊戲===========\\n\")\n",
    "    while(True):\n",
    "        count += 1\n",
    "        try:\n",
    "            keyin = int(input(f\"猜數字範圍{min}~{max}:\"))\n",
    "        except Exception:\n",
    "            print(\"請重新輸入\")\n",
    "            continue\n",
    "        if keyin >= min and keyin <= max:\n",
    "            if(keyin == target):\n",
    "                print(f\"賓果!猜對了, 答案是:{target}\")\n",
    "                print(f\"您總共猜了{count}次\")\n",
    "                print(\"===============\")\n",
    "                break\n",
    "            elif keyin > target:\n",
    "                print(\"再小一點\")\n",
    "                max = keyin - 1            \n",
    "            elif keyin < target:\n",
    "                print(\"再大一點\")\n",
    "                min = keyin + 1\n",
    "            print(f\"您已經猜了{count}次\")\n",
    "            print(\"================\")\n",
    "else:\n",
    "            print(\"超出範圍,請重新輸入\")\n",
    "\n",
    "while(True):\n",
    "    playGame()\n",
    "    answer = input(\"請問還要繼續嗎?y,n\")\n",
    "    if answer.upper() == 'N':\n",
    "        break\n",
    "\n",
    "print(\"遊戲結束\")\n",
    "\n"
   ]
  },
  {
   "cell_type": "code",
   "execution_count": 4,
   "metadata": {},
   "outputs": [
    {
     "name": "stdout",
     "output_type": "stream",
     "text": [
      "BMI計算機\n",
      "姓名:Belle\n",
      "請輸入身高(cm):154\n",
      "請輸入體重(kg):44\n",
      "Belle的BMI值:18.55\n",
      "Belle的體重:正常範圍\n",
      "應用程式結束\n"
     ]
    }
   ],
   "source": [
    "#計算BMI的程式碼\n",
    "while True:\n",
    "    try:\n",
    "        print(\"BMI計算機\")\n",
    "        name=input(\"請輸入姓名:\")\n",
    "        height = eval(input(\"請輸入身高(cm):\"))\n",
    "        weight = eval(input(\"請輸入體重(kg):\"))\n",
    "        BMI = weight / ((height/100)**2)\n",
    "        print(f\"姓名:{name}\")\n",
    "        print(f\"請輸入身高(cm):{height}\")\n",
    "        print(f\"請輸入體重(kg):{weight}\")\n",
    "        print(f\"{name}的BMI值:{BMI:.2f}\")\n",
    "        if BMI >=35:\n",
    "            print(f\"{name}的體重:重度肥胖\")\n",
    "        elif BMI >= 30:\n",
    "            print(f\"{name}的體重:中度肥胖\")\n",
    "        elif BMI >= 27:\n",
    "            print(f\"{name}的體重:輕度肥胖\")\n",
    "        elif BMI >= 24:\n",
    "            print(f\"{name}的體重:過重\")\n",
    "        elif BMI >= 18.5:\n",
    "            print(f\"{name}的體重:正常範圍\")\n",
    "        else:\n",
    "            print(f\"{name}的體重:體重過輕\")\n",
    "        answer=input(\"您還要繼續嗎?(y繼續,n結束)\")\n",
    "        if answer.upper() == 'N':\n",
    "            break\n",
    "        print(\"==============\")\n",
    "    except:\n",
    "        print(\"輸入格式錯誤,請重新輸入\")\n",
    "        print(\"==============\")\n",
    "        \n",
    "print(\"應用程式結束\")"
   ]
  }
 ],
 "metadata": {
  "kernelspec": {
   "display_name": "Python 3",
   "language": "python",
   "name": "python3"
  },
  "language_info": {
   "codemirror_mode": {
    "name": "ipython",
    "version": 3
   },
   "file_extension": ".py",
   "mimetype": "text/x-python",
   "name": "python",
   "nbconvert_exporter": "python",
   "pygments_lexer": "ipython3",
   "version": "3.10.15"
  }
 },
 "nbformat": 4,
 "nbformat_minor": 2
}
