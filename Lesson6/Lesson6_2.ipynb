{
 "cells": [
  {
   "cell_type": "markdown",
   "metadata": {},
   "source": [
    "###自訂的function\n",
    "-重複執行的,可減少python文件敘述的長度(建立一個功能的FUNTION)\n",
    "\n",
    "###自訂function的語法\n",
    "def func1():\n"
   ]
  },
  {
   "cell_type": "code",
   "execution_count": 3,
   "metadata": {},
   "outputs": [
    {
     "name": "stdout",
     "output_type": "stream",
     "text": [
      "第11行程式\n",
      "第12行程式\n",
      "第13行程式\n",
      "第14行程式\n",
      "第15行程式\n",
      "第16行程式\n",
      "第17行程式\n",
      "第18行程式\n",
      "第19行程式\n",
      "第6行程式\n",
      "第7行程式\n",
      "第8行程式\n",
      "第9行程式\n",
      "第10行程式\n",
      "第20行程式\n"
     ]
    }
   ],
   "source": [
    "#減少主程式碼\n",
    "def func1():\n",
    "    print(\"第1行程式\")\n",
    "    print(\"第2行程式\")\n",
    "    print(\"第3行程式\")\n",
    "    print(\"第4行程式\")\n",
    "    print(\"第5行程式\")\n",
    "def func2():\n",
    "    print(\"第6行程式\")\n",
    "    print(\"第7行程式\")\n",
    "    print(\"第8行程式\")\n",
    "    print(\"第9行程式\")\n",
    "    print(\"第10行程式\")\n",
    "\n",
    "print(\"第11行程式\")\n",
    "print(\"第12行程式\")\n",
    "print(\"第13行程式\")\n",
    "print(\"第14行程式\")\n",
    "print(\"第15行程式\")\n",
    "#呼叫func1\n",
    "print(\"第16行程式\")\n",
    "print(\"第17行程式\")\n",
    "print(\"第18行程式\")\n",
    "print(\"第19行程式\")\n",
    "#呼叫func2\n",
    "func2()\n",
    "print(\"第20行程式\")"
   ]
  },
  {
   "cell_type": "code",
   "execution_count": 1,
   "metadata": {},
   "outputs": [
    {
     "name": "stdout",
     "output_type": "stream",
     "text": [
      "第1行程式\n",
      "第2行程式\n",
      "第3行程式\n",
      "第4行程式\n",
      "第5行程式\n",
      "第6行程式\n",
      "第7行程式\n",
      "第8行程式\n",
      "第9行程式\n",
      "第10行程式\n",
      "第11行程式\n",
      "第12行程式\n",
      "第13行程式\n",
      "第14行程式\n",
      "第15行程式\n",
      "第16行程式\n",
      "第17行程式\n",
      "第18行程式\n",
      "第19行程式\n",
      "第20行程式\n"
     ]
    }
   ],
   "source": [
    "#減少文件程式碼\n",
    "def func1():\n",
    "    print(\"第5行程式\")\n",
    "    print(\"第6行程式\")\n",
    "    print(\"第7行程式\")\n",
    "    print(\"第8行程式\")\n",
    "    print(\"第9行程式\")\n",
    "    print(\"第10行程式\")\n",
    "\n",
    "def func2():\n",
    "    print(\"第15行程式\")\n",
    "    print(\"第16行程式\")\n",
    "    print(\"第17行程式\")\n",
    "    print(\"第18行程式\")\n",
    "    print(\"第19行程式\")\n",
    "\n",
    "print(\"第1行程式\")\n",
    "print(\"第2行程式\")\n",
    "print(\"第3行程式\")\n",
    "print(\"第4行程式\")\n",
    "#呼叫func1\n",
    "func1()\n",
    "print(\"第11行程式\")\n",
    "print(\"第12行程式\")\n",
    "print(\"第13行程式\")\n",
    "print(\"第14行程式\")\n",
    "#呼叫func2\n",
    "func2()\n",
    "print(\"第20行程式\")"
   ]
  },
  {
   "cell_type": "markdown",
   "metadata": {},
   "source": [
    "###建立一個功能性的function\n",
    "\n",
    "以下為定義function\n",
    "def 咖啡機(咖啡豆收集筒:咖啡豆,水杯:水) =>咖啡豆&水 是要放入的東西\n",
    "\n",
    "呼叫function\n",
    "咖啡機(1斤咖啡豆) =>引數值呼叫->真正的值\n",
    "咖啡杯=咖啡機(1斤咖啡豆,500cc水)\n",
    "\n",
    "=>引數值名稱呼叫->不需要依順序\n",
    "咖啡杯=咖啡機(水杯=500cc水,咖啡豆收集筒=1斤咖啡豆)\n",
    "\n"
   ]
  },
  {
   "cell_type": "code",
   "execution_count": 3,
   "metadata": {},
   "outputs": [
    {
     "name": "stdout",
     "output_type": "stream",
     "text": [
      "第1行程式\n",
      "第2行程式\n",
      "第3行程式\n",
      "第4行程式\n",
      "第5行程式\n",
      "第6行程式\n",
      "第7行程式\n",
      "第8行程式\n",
      "第9行程式\n",
      "第10行程式\n",
      "第11行程式\n",
      "第12行程式\n",
      "第13行程式\n",
      "第14行程式\n",
      "第15行程式\n",
      "第16行程式\n",
      "第17行程式\n",
      "第18行程式\n",
      "第19行程式\n",
      "第20行程式\n"
     ]
    }
   ],
   "source": [
    "#減少文件程式碼\n",
    "def func1()->None:\n",
    "    print(\"第5行程式\")\n",
    "    print(\"第6行程式\")\n",
    "    print(\"第7行程式\")\n",
    "    print(\"第8行程式\")\n",
    "    print(\"第9行程式\")\n",
    "    print(\"第10行程式\")\n",
    "\n",
    "def func2():\n",
    "    print(\"第15行程式\")\n",
    "    print(\"第16行程式\")\n",
    "    print(\"第17行程式\")\n",
    "    print(\"第18行程式\")\n",
    "    print(\"第19行程式\")\n",
    "\n",
    "print(\"第1行程式\")\n",
    "print(\"第2行程式\")\n",
    "print(\"第3行程式\")\n",
    "print(\"第4行程式\")\n",
    "#呼叫func1\n",
    "func1()\n",
    "print(\"第11行程式\")\n",
    "print(\"第12行程式\")\n",
    "print(\"第13行程式\")\n",
    "print(\"第14行程式\")\n",
    "#呼叫func2\n",
    "func2()\n",
    "print(\"第20行程式\")"
   ]
  },
  {
   "cell_type": "code",
   "execution_count": null,
   "metadata": {},
   "outputs": [],
   "source": []
  },
  {
   "cell_type": "code",
   "execution_count": null,
   "metadata": {},
   "outputs": [
    {
     "name": "stdout",
     "output_type": "stream",
     "text": [
      "a=314.15926\n",
      "a1=1256.63704\n"
     ]
    }
   ],
   "source": [
    "def circle_area(radius:int)->float:#有參數,有傳出值的function\n",
    "    area = 3.1415926 * radius **2\n",
    "    return area\n",
    "r = int(input(\"請輸入半徑:\"))\n",
    "a = circle_area(r)#引數值的呼叫\n",
    "a1 = circle_area(radius=r+10)#引數名稱的呼叫\n",
    "print(f\"a={a}\")\n",
    "print(f\"a1={a1}\")"
   ]
  },
  {
   "cell_type": "code",
   "execution_count": 5,
   "metadata": {},
   "outputs": [
    {
     "name": "stdout",
     "output_type": "stream",
     "text": [
      "a=314.15926\n",
      "a1=1256.63704\n"
     ]
    }
   ],
   "source": [
    "def circle_area(radius:int)->float: #有參數,有傳出值的function\n",
    "    area = 3.1415926 * radius ** 2\n",
    "    return area\n",
    "\n",
    "r = int(input(\"請輸入半徑:\"))\n",
    "a = circle_area(r)#引數值的呼叫\n",
    "a1 = circle_area(radius=r+10) #引數名稱的呼叫\n",
    "print(f\"a={a}\")\n",
    "print(f\"a1={a1}\")"
   ]
  }
 ],
 "metadata": {
  "kernelspec": {
   "display_name": "Python 3",
   "language": "python",
   "name": "python3"
  },
  "language_info": {
   "codemirror_mode": {
    "name": "ipython",
    "version": 3
   },
   "file_extension": ".py",
   "mimetype": "text/x-python",
   "name": "python",
   "nbconvert_exporter": "python",
   "pygments_lexer": "ipython3",
   "version": "3.10.15"
  }
 },
 "nbformat": 4,
 "nbformat_minor": 2
}
