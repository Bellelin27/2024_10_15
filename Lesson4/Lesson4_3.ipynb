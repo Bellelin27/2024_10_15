{
 "cells": [
  {
   "cell_type": "markdown",
   "metadata": {},
   "source": [
    "### if...else...(表條件)"
   ]
  },
  {
   "cell_type": "code",
   "execution_count": 5,
   "metadata": {},
   "outputs": [
    {
     "name": "stdout",
     "output_type": "stream",
     "text": [
      "及格\n",
      "一般\n"
     ]
    }
   ],
   "source": [
    "#巢狀判斷練1\n",
    "\n",
    "scores = int(input(\"請輸入學生分數0~100\"))\n",
    "if scores >= 60:\n",
    "    print(\"及格\")\n",
    "    if scores >= 90:\n",
    "        print(\"優\")\n",
    "    else:\n",
    "        print(\"一般\")\n",
    "else:\n",
    "    print(\"不及格\")\n",
    "    if scores >= 50:\n",
    "        print(\"丙\")\n",
    "    else:\n",
    "        print(\"丁\")"
   ]
  },
  {
   "cell_type": "code",
   "execution_count": 7,
   "metadata": {},
   "outputs": [
    {
     "ename": "SyntaxError",
     "evalue": "invalid syntax (815103950.py, line 15)",
     "output_type": "error",
     "traceback": [
      "\u001b[0;36m  Cell \u001b[0;32mIn[7], line 15\u001b[0;36m\u001b[0m\n\u001b[0;31m    else:\u001b[0m\n\u001b[0m    ^\u001b[0m\n\u001b[0;31mSyntaxError\u001b[0m\u001b[0;31m:\u001b[0m invalid syntax\n"
     ]
    }
   ],
   "source": [
    "#巢狀判斷練習2\n",
    "\n",
    "scores = int(input(\"請輸入學生分數0~100\"))\n",
    "if scores >= 90:\n",
    "    print(\"優\")\n",
    "else:\n",
    "    if scores >= 80:\n",
    "        print(\"甲\")\n",
    "    else:\n",
    "        if scores >= 70:\n",
    "           print(\"乙\")\n",
    "        else:\n",
    "           if scores >= 60:\n",
    "            print(\"丙\")\n",
    "            else:\n",
    "                print('丁')\n",
    "        \n"
   ]
  },
  {
   "cell_type": "code",
   "execution_count": 6,
   "metadata": {},
   "outputs": [
    {
     "name": "stdout",
     "output_type": "stream",
     "text": [
      "乙\n"
     ]
    }
   ],
   "source": [
    "scores = int(input(\"請輸入學生分數0~100\"))\n",
    "if scores >= 90:\n",
    "    print('優')\n",
    "else:\n",
    "    if scores >= 80:\n",
    "        print('甲')\n",
    "    else:\n",
    "        if scores >= 70:\n",
    "            print('乙')\n",
    "        else:\n",
    "            if scores >= 60:\n",
    "                print('丙')\n",
    "            else:\n",
    "                print('丁')"
   ]
  },
  {
   "cell_type": "code",
   "execution_count": 9,
   "metadata": {},
   "outputs": [
    {
     "name": "stdout",
     "output_type": "stream",
     "text": [
      "丙\n"
     ]
    }
   ],
   "source": [
    "#多項選擇 (elif=else+if)\n",
    "#以下5個程式區塊,只會執行一個 (嚴格的條件會寫在最上方)\n",
    "\n",
    "scores = int(input(\"請輸入學生分數0~100\"))\n",
    "if scores >= 90:\n",
    "    print('優')\n",
    "elif scores >= 80:    \n",
    "    print('甲')\n",
    "elif scores >= 70:\n",
    "    print('乙')\n",
    "elif scores >= 60:            \n",
    "    print('丙')\n",
    "else:\n",
    "    print('丁')"
   ]
  }
 ],
 "metadata": {
  "kernelspec": {
   "display_name": "Python 3",
   "language": "python",
   "name": "python3"
  },
  "language_info": {
   "codemirror_mode": {
    "name": "ipython",
    "version": 3
   },
   "file_extension": ".py",
   "mimetype": "text/x-python",
   "name": "python",
   "nbconvert_exporter": "python",
   "pygments_lexer": "ipython3",
   "version": "3.10.15"
  }
 },
 "nbformat": 4,
 "nbformat_minor": 2
}
