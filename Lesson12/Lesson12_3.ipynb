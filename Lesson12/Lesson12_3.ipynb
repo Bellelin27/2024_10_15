{
 "cells": [
  {
   "cell_type": "code",
   "execution_count": null,
   "metadata": {},
   "outputs": [],
   "source": [
    "import matplotlib.pyplot as plt\n",
    "\n",
    "# 1.製作figure\n",
    "fig = plt.figure()\n",
    "\n",
    "# 2.在1.的figure上製作一個axes\n",
    "axes = fig.add_subplot(1, 1, 1)\n",
    "\n",
    "# 3.將圖的數據儲存在axes中\n",
    "X = [0, 1, 2]\n",
    "Y = [3, 4, 5]\n",
    "axes.plot(X, Y,'ro-')\n",
    "\n",
    "# 4.顯示圖\n",
    "plt.show()"
   ]
  },
  {
   "cell_type": "code",
   "execution_count": null,
   "metadata": {},
   "outputs": [],
   "source": [
    "import matplotlib.pyplot as plt\n",
    "\n",
    "figure = plt.figure()\n",
    "axes_1 = figure.add_subplot(1,3,1)\n",
    "axes_2 = figure.add_subplot(1,3,2)\n",
    "axes_3 = figure.add_subplot(1,3,3)\n",
    "axes_1.set_title('1')\n",
    "axes_2.set_title('2')\n",
    "axes_3.set_title('3')\n",
    "plt.show()\n"
   ]
  }
 ],
 "metadata": {
  "kernelspec": {
   "display_name": "Python 3",
   "language": "python",
   "name": "python3"
  },
  "language_info": {
   "codemirror_mode": {
    "name": "ipython",
    "version": 3
   },
   "file_extension": ".py",
   "mimetype": "text/x-python",
   "name": "python",
   "nbconvert_exporter": "python",
   "pygments_lexer": "ipython3",
   "version": "3.10.15"
  }
 },
 "nbformat": 4,
 "nbformat_minor": 2
}
